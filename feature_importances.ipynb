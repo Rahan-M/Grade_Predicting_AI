{
 "cells": [
  {
   "cell_type": "code",
   "execution_count": 1,
   "id": "c8ba32bb-1adc-47e3-b3c2-7b8d9f832ad1",
   "metadata": {},
   "outputs": [],
   "source": [
    "import pandas as pd\n",
    "df=pd.read_csv(\"student-performance.csv\")"
   ]
  },
  {
   "cell_type": "code",
   "execution_count": 2,
   "id": "63562a7d-a124-4f8f-80df-43f3262b5781",
   "metadata": {},
   "outputs": [],
   "source": [
    "from sklearn.model_selection import train_test_split\n",
    "inputs=df.drop(['school','G3','sex','address','famsize','Pstatus','Medu','Fedu','Mjob','Fjob','reason','guardian','schoolsup','famsup','paid','activities','nursery','higher','internet','romantic'],axis='columns')\n",
    "target=df['G3']"
   ]
  },
  {
   "cell_type": "code",
   "execution_count": 4,
   "id": "c8c1c004-bdab-4ec0-bf44-5ffafbf8b7ad",
   "metadata": {},
   "outputs": [
    {
     "name": "stdout",
     "output_type": "stream",
     "text": [
      "     age  traveltime  studytime  failures  famrel  freetime  goout  Dalc  \\\n",
      "0     18           2          2         0       4         3      4     1   \n",
      "1     17           1          2         0       5         3      3     1   \n",
      "2     15           1          2         0       4         3      2     2   \n",
      "3     15           1          3         0       3         2      2     1   \n",
      "4     16           1          2         0       4         3      2     1   \n",
      "..   ...         ...        ...       ...     ...       ...    ...   ...   \n",
      "644   19           1          3         1       5         4      2     1   \n",
      "645   18           1          2         0       4         3      4     1   \n",
      "646   18           2          2         0       1         1      1     1   \n",
      "647   17           2          1         0       2         4      5     3   \n",
      "648   18           3          1         0       4         4      1     3   \n",
      "\n",
      "     Walc  health  ...  reason_n  guardian_n  schoolsup_n  famsup_n  paid_n  \\\n",
      "0       1       3  ...         0           1            1         0       0   \n",
      "1       1       3  ...         0           0            0         1       0   \n",
      "2       3       3  ...         2           1            1         0       0   \n",
      "3       1       5  ...         1           1            0         1       0   \n",
      "4       2       5  ...         1           0            0         1       0   \n",
      "..    ...     ...  ...       ...         ...          ...       ...     ...   \n",
      "644     2       5  ...         0           1            0         0       0   \n",
      "645     1       1  ...         0           1            0         1       0   \n",
      "646     1       5  ...         0           1            0         0       0   \n",
      "647     4       2  ...         0           1            0         0       0   \n",
      "648     4       5  ...         0           1            0         0       0   \n",
      "\n",
      "     activities_n  nursery_n  higher_n  internet_n  romantic_n  \n",
      "0               0          1         1           0           0  \n",
      "1               0          0         1           1           0  \n",
      "2               0          1         1           1           0  \n",
      "3               1          1         1           1           1  \n",
      "4               0          1         1           0           0  \n",
      "..            ...        ...       ...         ...         ...  \n",
      "644             1          0         1           1           0  \n",
      "645             0          1         1           1           0  \n",
      "646             1          1         1           0           0  \n",
      "647             0          0         1           1           0  \n",
      "648             0          0         1           1           0  \n",
      "\n",
      "[649 rows x 32 columns]\n"
     ]
    }
   ],
   "source": [
    "from sklearn.preprocessing import LabelEncoder\n",
    "le_sex=LabelEncoder()\n",
    "le_school=LabelEncoder()\n",
    "le_address=LabelEncoder()\n",
    "le_famsize=LabelEncoder()\n",
    "le_Pstatus=LabelEncoder()\n",
    "le_Medu=LabelEncoder()\n",
    "le_Fedu=LabelEncoder()\n",
    "le_Mjob=LabelEncoder()\n",
    "le_Fjob=LabelEncoder()\n",
    "le_reason=LabelEncoder()\n",
    "le_guardian=LabelEncoder()\n",
    "le_schoolsup=LabelEncoder()\n",
    "le_famsup=LabelEncoder()\n",
    "le_paid=LabelEncoder()\n",
    "le_activities=LabelEncoder()\n",
    "le_nursery=LabelEncoder()\n",
    "le_higher=LabelEncoder()\n",
    "le_internet=LabelEncoder()\n",
    "le_romantic=LabelEncoder()\n",
    "\n",
    "inputs['sex_n']=le_sex.fit_transform(df['sex'])\n",
    "inputs['school_n']=le_school.fit_transform(df['school'])\n",
    "inputs['address_n']=le_address.fit_transform(df['address'])\n",
    "inputs['famsize_n']=le_famsize.fit_transform(df['famsize'])\n",
    "inputs['Pstatus_n']=le_Pstatus.fit_transform(df['Pstatus'])\n",
    "inputs['Medu_n']=le_Medu.fit_transform(df['Medu'])\n",
    "inputs['Fedu_n']=le_Fedu.fit_transform(df['Fedu'])\n",
    "inputs['Mjob_n']=le_Mjob.fit_transform(df['Mjob'])\n",
    "inputs['Fjob_n']=le_Fjob.fit_transform(df['Fjob'])\n",
    "inputs['reason_n']=le_reason.fit_transform(df['reason'])\n",
    "inputs['guardian_n']=le_guardian.fit_transform(df['guardian'])\n",
    "inputs['schoolsup_n']=le_schoolsup.fit_transform(df['schoolsup'])\n",
    "inputs['famsup_n']=le_famsup.fit_transform(df['famsup'])\n",
    "inputs['paid_n']=le_paid.fit_transform(df['paid'])\n",
    "inputs['activities_n']=le_activities.fit_transform(df['activities'])\n",
    "inputs['nursery_n']=le_nursery.fit_transform(df['nursery'])\n",
    "inputs['higher_n']=le_higher.fit_transform(df['higher'])\n",
    "inputs['internet_n']=le_internet.fit_transform(df['internet'])\n",
    "inputs['romantic_n']=le_romantic.fit_transform(df['romantic'])\n",
    "print(inputs)"
   ]
  },
  {
   "cell_type": "code",
   "execution_count": 5,
   "id": "a72c1986-6869-4cb1-9854-4c47a8880b20",
   "metadata": {},
   "outputs": [],
   "source": [
    "X0_train, X0_test, y0_train, y0_test = train_test_split(inputs, target, test_size=0.2, random_state=21)\n",
    "X1_train, X1_test, y1_train, y1_test = train_test_split(inputs, target, test_size=0.2, random_state=22)\n",
    "X2_train, X2_test, y2_train, y2_test = train_test_split(inputs, target, test_size=0.2, random_state=3)\n",
    "X3_train, X3_test, y3_train, y3_test = train_test_split(inputs, target, test_size=0.2, random_state=45)\n",
    "X4_train, X4_test, y4_train, y4_test = train_test_split(inputs, target, test_size=0.2, random_state=51)"
   ]
  },
  {
   "cell_type": "code",
   "execution_count": 6,
   "id": "1362ca3d-49e6-44a2-92c9-042b0b8064ff",
   "metadata": {},
   "outputs": [],
   "source": [
    "from sklearn import tree\n",
    "model0=tree.DecisionTreeRegressor()\n",
    "model1=tree.DecisionTreeRegressor()\n",
    "model2=tree.DecisionTreeRegressor()\n",
    "model3=tree.DecisionTreeRegressor()\n",
    "model4=tree.DecisionTreeRegressor()\n",
    "model0.fit(inputs,target)\n",
    "model1.fit(X1_train,y1_train)\n",
    "model2.fit(X2_train,y2_train)\n",
    "model3.fit(X3_train,y3_train)\n",
    "model4.fit(X4_train,y4_train)\n",
    "importances=model0.feature_importances_+model1.feature_importances_+model2.feature_importances_+model3.feature_importances_+model4.feature_importances_\n",
    "feature_names=X0_train.columns"
   ]
  },
  {
   "cell_type": "code",
   "execution_count": 7,
   "id": "dec8d592-7d95-447f-b472-bded42ee7659",
   "metadata": {},
   "outputs": [
    {
     "name": "stdout",
     "output_type": "stream",
     "text": [
      "         Feature  Importance\n",
      "12            G2    4.138190\n",
      "10      absences    0.200482\n",
      "4         famrel    0.090337\n",
      "0            age    0.059401\n",
      "11            G1    0.059242\n",
      "14      school_n    0.042391\n",
      "21        Fjob_n    0.037051\n",
      "27  activities_n    0.035550\n",
      "7           Dalc    0.032036\n",
      "19        Fedu_n    0.030840\n",
      "18        Medu_n    0.028207\n",
      "8           Walc    0.027873\n",
      "6          goout    0.026650\n",
      "20        Mjob_n    0.024284\n",
      "22      reason_n    0.022088\n",
      "3       failures    0.020814\n",
      "23    guardian_n    0.017889\n",
      "13         sex_n    0.016680\n",
      "9         health    0.014823\n",
      "5       freetime    0.014097\n",
      "1     traveltime    0.011163\n",
      "2      studytime    0.010229\n",
      "25      famsup_n    0.007695\n",
      "16     famsize_n    0.005819\n",
      "15     address_n    0.005546\n",
      "31    romantic_n    0.004853\n",
      "24   schoolsup_n    0.004756\n",
      "26        paid_n    0.003204\n",
      "17     Pstatus_n    0.002616\n",
      "28     nursery_n    0.002353\n",
      "30    internet_n    0.002335\n",
      "29      higher_n    0.000507\n"
     ]
    }
   ],
   "source": [
    "feature_importance_df = pd.DataFrame({\n",
    "    'Feature': feature_names,\n",
    "    'Importance': importances\n",
    "})\n",
    "feature_importance_df = feature_importance_df.sort_values(by='Importance', ascending=False)\n",
    "print(feature_importance_df)"
   ]
  },
  {
   "cell_type": "code",
   "execution_count": 25,
   "id": "9fd8d718-cf7e-4115-ac63-7399827c5dbb",
   "metadata": {},
   "outputs": [
    {
     "data": {
      "text/html": [
       "<div>\n",
       "<style scoped>\n",
       "    .dataframe tbody tr th:only-of-type {\n",
       "        vertical-align: middle;\n",
       "    }\n",
       "\n",
       "    .dataframe tbody tr th {\n",
       "        vertical-align: top;\n",
       "    }\n",
       "\n",
       "    .dataframe thead th {\n",
       "        text-align: right;\n",
       "    }\n",
       "</style>\n",
       "<table border=\"1\" class=\"dataframe\">\n",
       "  <thead>\n",
       "    <tr style=\"text-align: right;\">\n",
       "      <th></th>\n",
       "      <th>absences</th>\n",
       "      <th>freetime</th>\n",
       "      <th>goout</th>\n",
       "      <th>G2</th>\n",
       "      <th>sex_n</th>\n",
       "    </tr>\n",
       "  </thead>\n",
       "  <tbody>\n",
       "    <tr>\n",
       "      <th>332</th>\n",
       "      <td>0</td>\n",
       "      <td>3</td>\n",
       "      <td>3</td>\n",
       "      <td>18</td>\n",
       "      <td>0</td>\n",
       "    </tr>\n",
       "    <tr>\n",
       "      <th>29</th>\n",
       "      <td>4</td>\n",
       "      <td>4</td>\n",
       "      <td>5</td>\n",
       "      <td>11</td>\n",
       "      <td>1</td>\n",
       "    </tr>\n",
       "    <tr>\n",
       "      <th>302</th>\n",
       "      <td>2</td>\n",
       "      <td>3</td>\n",
       "      <td>2</td>\n",
       "      <td>11</td>\n",
       "      <td>1</td>\n",
       "    </tr>\n",
       "    <tr>\n",
       "      <th>286</th>\n",
       "      <td>0</td>\n",
       "      <td>4</td>\n",
       "      <td>2</td>\n",
       "      <td>12</td>\n",
       "      <td>1</td>\n",
       "    </tr>\n",
       "    <tr>\n",
       "      <th>554</th>\n",
       "      <td>3</td>\n",
       "      <td>5</td>\n",
       "      <td>5</td>\n",
       "      <td>11</td>\n",
       "      <td>0</td>\n",
       "    </tr>\n",
       "  </tbody>\n",
       "</table>\n",
       "</div>"
      ],
      "text/plain": [
       "     absences  freetime  goout  G2  sex_n\n",
       "332         0         3      3  18      0\n",
       "29          4         4      5  11      1\n",
       "302         2         3      2  11      1\n",
       "286         0         4      2  12      1\n",
       "554         3         5      5  11      0"
      ]
     },
     "execution_count": 25,
     "metadata": {},
     "output_type": "execute_result"
    }
   ],
   "source": [
    "from sklearn.model_selection import train_test_split\n",
    "from sklearn.preprocessing import LabelEncoder\n",
    "inputs=df[['absences','freetime','goout','G2']].copy()\n",
    "le_sex=LabelEncoder()\n",
    "inputs['sex_n']=le_sex.fit_transform(df['sex'])\n",
    "target=df['G3']\n",
    "X_train, X_test, y_train, y_test = train_test_split(inputs, target, test_size=0.2, random_state=42)\n",
    "X_train.head()"
   ]
  },
  {
   "cell_type": "code",
   "execution_count": 26,
   "id": "9c31e525-d804-4da2-8033-4d1cc67a45ce",
   "metadata": {},
   "outputs": [],
   "source": [
    "from sklearn.model_selection import RandomizedSearchCV\n",
    "param_dist={\n",
    "    'max_depth':list(range(3,20)),\n",
    "    'min_samples_split':list(range(2,20)),\n",
    "    'min_samples_leaf':list(range(1,20)),\n",
    "    'max_features':[None,'sqrt','log2'],\n",
    "    'criterion':['squared_error','friedman_mse']\n",
    "}"
   ]
  },
  {
   "cell_type": "code",
   "execution_count": 28,
   "id": "0eb7e41b-e2a2-4ef0-82cd-87ea7437d35a",
   "metadata": {},
   "outputs": [
    {
     "name": "stdout",
     "output_type": "stream",
     "text": [
      "Best Hyperparameters: {'min_samples_split': 9, 'min_samples_leaf': 3, 'max_features': None, 'max_depth': 5, 'criterion': 'friedman_mse'}\n"
     ]
    }
   ],
   "source": [
    "param_opt_model=tree.DecisionTreeRegressor(random_state=21)\n",
    "random_search=RandomizedSearchCV(estimator=param_opt_model,param_distributions=param_dist,cv=3,scoring='neg_mean_squared_error',random_state=21,n_iter=100)\n",
    "random_search.fit(X_train,y_train)\n",
    "print(\"Best Hyperparameters:\", random_search.best_params_)"
   ]
  }
 ],
 "metadata": {
  "kernelspec": {
   "display_name": "Python 3 (ipykernel)",
   "language": "python",
   "name": "python3"
  },
  "language_info": {
   "codemirror_mode": {
    "name": "ipython",
    "version": 3
   },
   "file_extension": ".py",
   "mimetype": "text/x-python",
   "name": "python",
   "nbconvert_exporter": "python",
   "pygments_lexer": "ipython3",
   "version": "3.13.1"
  }
 },
 "nbformat": 4,
 "nbformat_minor": 5
}
