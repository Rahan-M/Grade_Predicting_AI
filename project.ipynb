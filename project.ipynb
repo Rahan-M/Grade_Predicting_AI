{
 "cells": [
  {
   "cell_type": "code",
   "execution_count": 1,
   "id": "22b7fae7-f2d2-4d79-8ecf-d89b9d8b49e5",
   "metadata": {},
   "outputs": [],
   "source": [
    "import pandas as pd\n",
    "df = pd.read_csv('student-performance.csv')"
   ]
  },
  {
   "cell_type": "code",
   "execution_count": null,
   "id": "447338ce-e852-4fb5-b036-3519f278f5ad",
   "metadata": {},
   "outputs": [],
   "source": [
    "from sklearn.model_selection import train_test_split\n",
    "from sklearn import tree\n",
    "inputs=df[['absences','age','famrel','G1','G2']].copy()\n",
    "target=df['G3']\n",
    "X_train, X_test, y_train, y_test = train_test_split(inputs, target, test_size=0.2, random_state=145)\n",
    "X_train.head()"
   ]
  },
  {
   "cell_type": "code",
   "execution_count": 3,
   "id": "5a74f329-38f3-4fc6-b811-04ebd816dc1c",
   "metadata": {},
   "outputs": [
    {
     "name": "stdout",
     "output_type": "stream",
     "text": [
      "Best Hyperparameters: {'criterion': 'squared_error', 'max_depth': 4, 'max_features': None, 'min_samples_leaf': 5, 'min_samples_split': 5}\n"
     ]
    }
   ],
   "source": [
    "# from sklearn.model_selection import GridSearchCV\n",
    "# param_grid={\n",
    "#     'max_depth':list(range(3,15)),\n",
    "#     'min_samples_split':list(range(5,15)),\n",
    "#     'min_samples_leaf':list(range(5,15)),\n",
    "#     'max_features':[None,'sqrt','log2'],\n",
    "#     'criterion':['squared_error','friedman_mse']\n",
    "# }\n",
    "# param_opt_model=tree.DecisionTreeRegressor(random_state=21)\n",
    "# grid_search=GridSearchCV(estimator=param_opt_model,param_grid=param_grid,cv=3,scoring='neg_mean_squared_error')\n",
    "# grid_search.fit(X_train,y_train)\n",
    "# print(\"Best Hyperparameters:\", grid_search.best_params_)"
   ]
  },
  {
   "cell_type": "code",
   "execution_count": null,
   "id": "d2d427df-d29b-4a98-97bb-f2c4797202fa",
   "metadata": {},
   "outputs": [],
   "source": [
    "model=tree.DecisionTreeRegressor(min_samples_split= 5, min_samples_leaf= 5, max_features= None, max_depth= 4, criterion= 'squared_error')\n",
    "model.fit(X_train,y_train)"
   ]
  },
  {
   "cell_type": "code",
   "execution_count": 4,
   "id": "6dac8fcf-0ab3-4cc7-8942-cff67779c5d2",
   "metadata": {},
   "outputs": [
    {
     "name": "stdout",
     "output_type": "stream",
     "text": [
      "RMSE : 1.1754037010163108 \n",
      " r^2 : 0.8568457689399083\n"
     ]
    }
   ],
   "source": [
    "from sklearn.metrics import mean_squared_error, r2_score\n",
    "y_pred=model.predict(X_test)\n",
    "rmse=mean_squared_error(y_test,y_pred)**0.5\n",
    "r2=r2_score(y_test,y_pred)\n",
    "print(f\"RMSE : {rmse} \\n r^2 : {r2}\")"
   ]
  },
  {
   "cell_type": "code",
   "execution_count": 5,
   "id": "bfb8d4d0-a063-435a-b21b-f4f46d5d6946",
   "metadata": {},
   "outputs": [
    {
     "name": "stdout",
     "output_type": "stream",
     "text": [
      "9.584905660377359\n"
     ]
    }
   ],
   "source": [
    "feature_names=['absences','age','famrel','G1','G2']\n",
    "input_data=pd.DataFrame([[2,15,5,10,9]], columns=feature_names)\n",
    "print(model.predict(input_data)[0])"
   ]
  },
  {
   "cell_type": "code",
   "execution_count": 6,
   "id": "55fbff63-a8dc-4653-82c3-08435ac84e81",
   "metadata": {},
   "outputs": [
    {
     "name": "stdout",
     "output_type": "stream",
     "text": [
      "[1.50320171 1.37805604 1.74135533 1.97730175 1.8216752 ]\n",
      "Average RMSE = 1.6843180074640247\n"
     ]
    }
   ],
   "source": [
    "# cross validation\n",
    "from sklearn.model_selection import cross_val_score\n",
    "import numpy as np\n",
    "scores=cross_val_score(model,X_train,y_train,cv=5,scoring='neg_mean_squared_error')\n",
    "rmse_scores=np.sqrt(-scores)\n",
    "print(rmse_scores)\n",
    "print(\"Average RMSE =\",np.mean(rmse_scores))"
   ]
  },
  {
   "cell_type": "code",
   "execution_count": 7,
   "id": "a58eb070-7dc4-4c6f-8c16-ae8a5041dc50",
   "metadata": {},
   "outputs": [
    {
     "data": {
      "text/plain": [
       "['grade_prediction_ai.pkl']"
      ]
     },
     "execution_count": 7,
     "metadata": {},
     "output_type": "execute_result"
    }
   ],
   "source": [
    "import joblib\n",
    "joblib.dump(model,'grade_prediction_ai.pkl')"
   ]
  }
 ],
 "metadata": {
  "kernelspec": {
   "display_name": "Python 3 (ipykernel)",
   "language": "python",
   "name": "python3"
  },
  "language_info": {
   "codemirror_mode": {
    "name": "ipython",
    "version": 3
   },
   "file_extension": ".py",
   "mimetype": "text/x-python",
   "name": "python",
   "nbconvert_exporter": "python",
   "pygments_lexer": "ipython3",
   "version": "3.13.1"
  }
 },
 "nbformat": 4,
 "nbformat_minor": 5
}
