{
 "cells": [
  {
   "cell_type": "code",
   "execution_count": 1,
   "id": "c8ba32bb-1adc-47e3-b3c2-7b8d9f832ad1",
   "metadata": {},
   "outputs": [],
   "source": [
    "import pandas as pd\n",
    "df=pd.read_csv(\"student-performance.csv\")"
   ]
  },
  {
   "cell_type": "code",
   "execution_count": 17,
   "id": "63562a7d-a124-4f8f-80df-43f3262b5781",
   "metadata": {},
   "outputs": [
    {
     "name": "stdout",
     "output_type": "stream",
     "text": [
      "     age  traveltime  studytime  failures  famrel  freetime  goout  Dalc  \\\n",
      "0     18           2          2         0       4         3      4     1   \n",
      "1     17           1          2         0       5         3      3     1   \n",
      "2     15           1          2         0       4         3      2     2   \n",
      "3     15           1          3         0       3         2      2     1   \n",
      "4     16           1          2         0       4         3      2     1   \n",
      "..   ...         ...        ...       ...     ...       ...    ...   ...   \n",
      "644   19           1          3         1       5         4      2     1   \n",
      "645   18           1          2         0       4         3      4     1   \n",
      "646   18           2          2         0       1         1      1     1   \n",
      "647   17           2          1         0       2         4      5     3   \n",
      "648   18           3          1         0       4         4      1     3   \n",
      "\n",
      "     Walc  health  absences  G1  G2  sex_n  \n",
      "0       1       3         4   0  11      0  \n",
      "1       1       3         2   9  11      0  \n",
      "2       3       3         6  12  13      0  \n",
      "3       1       5         0  14  14      0  \n",
      "4       2       5         0  11  13      0  \n",
      "..    ...     ...       ...  ..  ..    ...  \n",
      "644     2       5         4  10  11      0  \n",
      "645     1       1         4  15  15      0  \n",
      "646     1       5         6  11  12      0  \n",
      "647     4       2         6  10  10      1  \n",
      "648     4       5         4  10  11      1  \n",
      "\n",
      "[649 rows x 14 columns]\n"
     ]
    }
   ],
   "source": [
    "from sklearn.model_selection import train_test_split\n",
    "from sklearn.preprocessing import LabelEncoder\n",
    "inputs=df.drop(['school','G3','sex','address','famsize','Pstatus','Medu','Fedu','Mjob','Fjob','reason','guardian','schoolsup','famsup','paid','activities','nursery','higher','internet','romantic'],axis='columns')\n",
    "le_sex=LabelEncoder()\n",
    "inputs['sex_n']=le_sex.fit_transform(df['sex'])\n",
    "target=df['G3']\n",
    "print(inputs)"
   ]
  },
  {
   "cell_type": "code",
   "execution_count": 20,
   "id": "a72c1986-6869-4cb1-9854-4c47a8880b20",
   "metadata": {},
   "outputs": [],
   "source": [
    "X_train, X_test, y_train, y_test = train_test_split(inputs, target, test_size=0.2, random_state=42)"
   ]
  },
  {
   "cell_type": "code",
   "execution_count": 24,
   "id": "1362ca3d-49e6-44a2-92c9-042b0b8064ff",
   "metadata": {},
   "outputs": [],
   "source": [
    "from sklearn import tree\n",
    "model=tree.DecisionTreeClassifier()\n",
    "model.fit(X_train,y_train)\n",
    "\n",
    "importances=model.feature_importances_\n",
    "feature_names=X_train.columns"
   ]
  },
  {
   "cell_type": "code",
   "execution_count": 25,
   "id": "dec8d592-7d95-447f-b472-bded42ee7659",
   "metadata": {},
   "outputs": [
    {
     "name": "stdout",
     "output_type": "stream",
     "text": [
      "       Feature  Importance\n",
      "12          G2    0.317957\n",
      "10    absences    0.093695\n",
      "11          G1    0.085076\n",
      "5     freetime    0.080451\n",
      "0          age    0.060107\n",
      "2    studytime    0.058146\n",
      "9       health    0.055575\n",
      "4       famrel    0.051255\n",
      "8         Walc    0.048176\n",
      "6        goout    0.044748\n",
      "1   traveltime    0.031638\n",
      "13       sex_n    0.028319\n",
      "3     failures    0.022597\n",
      "7         Dalc    0.022262\n"
     ]
    }
   ],
   "source": [
    "feature_importance_df = pd.DataFrame({\n",
    "    'Feature': feature_names,\n",
    "    'Importance': importances\n",
    "})\n",
    "feature_importance_df = feature_importance_df.sort_values(by='Importance', ascending=False)\n",
    "print(feature_importance_df)"
   ]
  }
 ],
 "metadata": {
  "kernelspec": {
   "display_name": "Python 3 (ipykernel)",
   "language": "python",
   "name": "python3"
  },
  "language_info": {
   "codemirror_mode": {
    "name": "ipython",
    "version": 3
   },
   "file_extension": ".py",
   "mimetype": "text/x-python",
   "name": "python",
   "nbconvert_exporter": "python",
   "pygments_lexer": "ipython3",
   "version": "3.13.1"
  }
 },
 "nbformat": 4,
 "nbformat_minor": 5
}
