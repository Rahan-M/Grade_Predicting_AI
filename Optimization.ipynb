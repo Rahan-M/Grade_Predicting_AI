{
 "cells": [
  {
   "cell_type": "code",
   "execution_count": 4,
   "id": "c8ba32bb-1adc-47e3-b3c2-7b8d9f832ad1",
   "metadata": {},
   "outputs": [],
   "source": [
    "import pandas as pd\n",
    "df=pd.read_csv(\"student-performance.csv\")"
   ]
  },
  {
   "cell_type": "code",
   "execution_count": 5,
   "id": "63562a7d-a124-4f8f-80df-43f3262b5781",
   "metadata": {},
   "outputs": [
    {
     "name": "stdout",
     "output_type": "stream",
     "text": [
      "     age  traveltime  studytime  failures  famrel  freetime  goout  Dalc  \\\n",
      "0     18           2          2         0       4         3      4     1   \n",
      "1     17           1          2         0       5         3      3     1   \n",
      "2     15           1          2         0       4         3      2     2   \n",
      "3     15           1          3         0       3         2      2     1   \n",
      "4     16           1          2         0       4         3      2     1   \n",
      "..   ...         ...        ...       ...     ...       ...    ...   ...   \n",
      "644   19           1          3         1       5         4      2     1   \n",
      "645   18           1          2         0       4         3      4     1   \n",
      "646   18           2          2         0       1         1      1     1   \n",
      "647   17           2          1         0       2         4      5     3   \n",
      "648   18           3          1         0       4         4      1     3   \n",
      "\n",
      "     Walc  health  absences  G1  G2  sex_n  \n",
      "0       1       3         4   0  11      0  \n",
      "1       1       3         2   9  11      0  \n",
      "2       3       3         6  12  13      0  \n",
      "3       1       5         0  14  14      0  \n",
      "4       2       5         0  11  13      0  \n",
      "..    ...     ...       ...  ..  ..    ...  \n",
      "644     2       5         4  10  11      0  \n",
      "645     1       1         4  15  15      0  \n",
      "646     1       5         6  11  12      0  \n",
      "647     4       2         6  10  10      1  \n",
      "648     4       5         4  10  11      1  \n",
      "\n",
      "[649 rows x 14 columns]\n"
     ]
    }
   ],
   "source": [
    "from sklearn.model_selection import train_test_split\n",
    "from sklearn.preprocessing import LabelEncoder\n",
    "inputs=df.drop(['school','G3','sex','address','famsize','Pstatus','Medu','Fedu','Mjob','Fjob','reason','guardian','schoolsup','famsup','paid','activities','nursery','higher','internet','romantic'],axis='columns')\n",
    "le_sex=LabelEncoder()\n",
    "inputs['sex_n']=le_sex.fit_transform(df['sex'])\n",
    "target=df['G3']\n",
    "print(inputs)"
   ]
  },
  {
   "cell_type": "code",
   "execution_count": 25,
   "id": "a72c1986-6869-4cb1-9854-4c47a8880b20",
   "metadata": {},
   "outputs": [],
   "source": [
    "X0_train, X0_test, y0_train, y0_test = train_test_split(inputs, target, test_size=0.2, random_state=21)\n",
    "X1_train, X1_test, y1_train, y1_test = train_test_split(inputs, target, test_size=0.2, random_state=22)\n",
    "X2_train, X2_test, y2_train, y2_test = train_test_split(inputs, target, test_size=0.2, random_state=3)\n",
    "X3_train, X3_test, y3_train, y3_test = train_test_split(inputs, target, test_size=0.2, random_state=45)\n",
    "X4_train, X4_test, y4_train, y4_test = train_test_split(inputs, target, test_size=0.2, random_state=51)"
   ]
  },
  {
   "cell_type": "code",
   "execution_count": 32,
   "id": "1362ca3d-49e6-44a2-92c9-042b0b8064ff",
   "metadata": {},
   "outputs": [],
   "source": [
    "from sklearn import tree\n",
    "model0=tree.DecisionTreeRegressor()\n",
    "model1=tree.DecisionTreeRegressor()\n",
    "model2=tree.DecisionTreeRegressor()\n",
    "model3=tree.DecisionTreeRegressor()\n",
    "model4=tree.DecisionTreeRegressor()\n",
    "model0.fit(inputs,target)\n",
    "model1.fit(X1_train,y1_train)\n",
    "model2.fit(X2_train,y2_train)\n",
    "model3.fit(X3_train,y3_train)\n",
    "model4.fit(X4_train,y4_train)\n",
    "importances=model0.feature_importances_+model1.feature_importances_+model2.feature_importances_+model3.feature_importances_+model4.feature_importances_\n",
    "feature_names=X0_train.columns"
   ]
  },
  {
   "cell_type": "code",
   "execution_count": 33,
   "id": "dec8d592-7d95-447f-b472-bded42ee7659",
   "metadata": {},
   "outputs": [
    {
     "name": "stdout",
     "output_type": "stream",
     "text": [
      "       Feature  Importance\n",
      "12          G2    4.161400\n",
      "10    absences    0.192362\n",
      "4       famrel    0.096206\n",
      "0          age    0.096056\n",
      "5     freetime    0.076282\n",
      "11          G1    0.069532\n",
      "1   traveltime    0.062093\n",
      "6        goout    0.061144\n",
      "7         Dalc    0.047879\n",
      "3     failures    0.038220\n",
      "8         Walc    0.030249\n",
      "13       sex_n    0.026848\n",
      "9       health    0.024849\n",
      "2    studytime    0.016881\n"
     ]
    }
   ],
   "source": [
    "feature_importance_df = pd.DataFrame({\n",
    "    'Feature': feature_names,\n",
    "    'Importance': importances\n",
    "})\n",
    "feature_importance_df = feature_importance_df.sort_values(by='Importance', ascending=False)\n",
    "print(feature_importance_df)"
   ]
  },
  {
   "cell_type": "code",
   "execution_count": 25,
   "id": "9fd8d718-cf7e-4115-ac63-7399827c5dbb",
   "metadata": {},
   "outputs": [
    {
     "data": {
      "text/html": [
       "<div>\n",
       "<style scoped>\n",
       "    .dataframe tbody tr th:only-of-type {\n",
       "        vertical-align: middle;\n",
       "    }\n",
       "\n",
       "    .dataframe tbody tr th {\n",
       "        vertical-align: top;\n",
       "    }\n",
       "\n",
       "    .dataframe thead th {\n",
       "        text-align: right;\n",
       "    }\n",
       "</style>\n",
       "<table border=\"1\" class=\"dataframe\">\n",
       "  <thead>\n",
       "    <tr style=\"text-align: right;\">\n",
       "      <th></th>\n",
       "      <th>absences</th>\n",
       "      <th>freetime</th>\n",
       "      <th>goout</th>\n",
       "      <th>G2</th>\n",
       "      <th>sex_n</th>\n",
       "    </tr>\n",
       "  </thead>\n",
       "  <tbody>\n",
       "    <tr>\n",
       "      <th>332</th>\n",
       "      <td>0</td>\n",
       "      <td>3</td>\n",
       "      <td>3</td>\n",
       "      <td>18</td>\n",
       "      <td>0</td>\n",
       "    </tr>\n",
       "    <tr>\n",
       "      <th>29</th>\n",
       "      <td>4</td>\n",
       "      <td>4</td>\n",
       "      <td>5</td>\n",
       "      <td>11</td>\n",
       "      <td>1</td>\n",
       "    </tr>\n",
       "    <tr>\n",
       "      <th>302</th>\n",
       "      <td>2</td>\n",
       "      <td>3</td>\n",
       "      <td>2</td>\n",
       "      <td>11</td>\n",
       "      <td>1</td>\n",
       "    </tr>\n",
       "    <tr>\n",
       "      <th>286</th>\n",
       "      <td>0</td>\n",
       "      <td>4</td>\n",
       "      <td>2</td>\n",
       "      <td>12</td>\n",
       "      <td>1</td>\n",
       "    </tr>\n",
       "    <tr>\n",
       "      <th>554</th>\n",
       "      <td>3</td>\n",
       "      <td>5</td>\n",
       "      <td>5</td>\n",
       "      <td>11</td>\n",
       "      <td>0</td>\n",
       "    </tr>\n",
       "  </tbody>\n",
       "</table>\n",
       "</div>"
      ],
      "text/plain": [
       "     absences  freetime  goout  G2  sex_n\n",
       "332         0         3      3  18      0\n",
       "29          4         4      5  11      1\n",
       "302         2         3      2  11      1\n",
       "286         0         4      2  12      1\n",
       "554         3         5      5  11      0"
      ]
     },
     "execution_count": 25,
     "metadata": {},
     "output_type": "execute_result"
    }
   ],
   "source": [
    "from sklearn.model_selection import train_test_split\n",
    "from sklearn.preprocessing import LabelEncoder\n",
    "inputs=df[['absences','freetime','goout','G2']].copy()\n",
    "le_sex=LabelEncoder()\n",
    "inputs['sex_n']=le_sex.fit_transform(df['sex'])\n",
    "target=df['G3']\n",
    "X_train, X_test, y_train, y_test = train_test_split(inputs, target, test_size=0.2, random_state=42)\n",
    "X_train.head()"
   ]
  },
  {
   "cell_type": "code",
   "execution_count": 26,
   "id": "9c31e525-d804-4da2-8033-4d1cc67a45ce",
   "metadata": {},
   "outputs": [],
   "source": [
    "from sklearn.model_selection import RandomizedSearchCV\n",
    "param_dist={\n",
    "    'max_depth':list(range(3,20)),\n",
    "    'min_samples_split':list(range(2,20)),\n",
    "    'min_samples_leaf':list(range(1,20)),\n",
    "    'max_features':[None,'sqrt','log2'],\n",
    "    'criterion':['squared_error','friedman_mse']\n",
    "}"
   ]
  },
  {
   "cell_type": "code",
   "execution_count": 28,
   "id": "0eb7e41b-e2a2-4ef0-82cd-87ea7437d35a",
   "metadata": {},
   "outputs": [
    {
     "name": "stdout",
     "output_type": "stream",
     "text": [
      "Best Hyperparameters: {'min_samples_split': 9, 'min_samples_leaf': 3, 'max_features': None, 'max_depth': 5, 'criterion': 'friedman_mse'}\n"
     ]
    }
   ],
   "source": [
    "param_opt_model=tree.DecisionTreeRegressor(random_state=21)\n",
    "random_search=RandomizedSearchCV(estimator=param_opt_model,param_distributions=param_dist,cv=3,scoring='neg_mean_squared_error',random_state=21,n_iter=100)\n",
    "random_search.fit(X_train,y_train)\n",
    "print(\"Best Hyperparameters:\", random_search.best_params_)"
   ]
  }
 ],
 "metadata": {
  "kernelspec": {
   "display_name": "Python 3 (ipykernel)",
   "language": "python",
   "name": "python3"
  },
  "language_info": {
   "codemirror_mode": {
    "name": "ipython",
    "version": 3
   },
   "file_extension": ".py",
   "mimetype": "text/x-python",
   "name": "python",
   "nbconvert_exporter": "python",
   "pygments_lexer": "ipython3",
   "version": "3.13.1"
  }
 },
 "nbformat": 4,
 "nbformat_minor": 5
}
